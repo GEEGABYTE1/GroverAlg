{
 "cells": [
  {
   "cell_type": "code",
   "execution_count": 2,
   "metadata": {},
   "outputs": [],
   "source": [
    "from qiskit import QuantumCircuit\n",
    "from qiskit.providers.aer import AerSimulator"
   ]
  },
  {
   "cell_type": "code",
   "execution_count": 3,
   "metadata": {},
   "outputs": [
    {
     "data": {
      "text/plain": [
       "{'00': 1024}"
      ]
     },
     "execution_count": 3,
     "metadata": {},
     "output_type": "execute_result"
    }
   ],
   "source": [
    "oracle1 = QuantumCircuit(2, 2)\n",
    "oracle1.cz(0, 1)        # | 00 >\n",
    "oracle1.measure(0, 1)\n",
    "sim = AerSimulator()\n",
    "job = sim.run(oracle1)\n",
    "result = job.result()\n",
    "result.get_counts()\n",
    "#oracle1.draw()"
   ]
  },
  {
   "cell_type": "code",
   "execution_count": 58,
   "metadata": {},
   "outputs": [
    {
     "data": {
      "text/plain": [
       "{'00': 1024}"
      ]
     },
     "execution_count": 58,
     "metadata": {},
     "output_type": "execute_result"
    }
   ],
   "source": [
    "oracle2 = QuantumCircuit(2, 2)\n",
    "oracle2.x(0)\n",
    "oracle2.x(0)\n",
    "oracle2.measure(1, 0)\n",
    "sim = AerSimulator()\n",
    "job = sim.run(oracle2)\n",
    "result = job.result()\n",
    "result.get_counts()\n",
    "#oracle2.draw()"
   ]
  },
  {
   "cell_type": "code",
   "execution_count": null,
   "metadata": {},
   "outputs": [],
   "source": []
  },
  {
   "cell_type": "code",
   "execution_count": 5,
   "metadata": {},
   "outputs": [
    {
     "data": {
      "text/plain": [
       "{'10': 1024}"
      ]
     },
     "execution_count": 5,
     "metadata": {},
     "output_type": "execute_result"
    }
   ],
   "source": [
    "oracle3 = QuantumCircuit(2, 2)\n",
    "oracle3.x(0)            # |10 >\n",
    "oracle3.measure(0, 1)\n",
    "sim = AerSimulator()\n",
    "job = sim.run(oracle3)\n",
    "result = job.result()\n",
    "result.get_counts()\n"
   ]
  },
  {
   "cell_type": "code",
   "execution_count": 45,
   "metadata": {},
   "outputs": [
    {
     "data": {
      "text/plain": [
       "{'01': 1024}"
      ]
     },
     "execution_count": 45,
     "metadata": {},
     "output_type": "execute_result"
    }
   ],
   "source": [
    "oracle4 = QuantumCircuit(2, 2)\n",
    "oracle4.x(1)\n",
    "oracle4.x(0)\n",
    "oracle4.measure(1, 0)\n",
    "sim = AerSimulator()\n",
    "job = sim.run(oracle4)\n",
    "result = job.result()\n",
    "result.get_counts()"
   ]
  },
  {
   "cell_type": "code",
   "execution_count": null,
   "metadata": {},
   "outputs": [],
   "source": []
  },
  {
   "cell_type": "code",
   "execution_count": null,
   "metadata": {},
   "outputs": [],
   "source": []
  }
 ],
 "metadata": {
  "interpreter": {
   "hash": "aee8b7b246df8f9039afb4144a1f6fd8d2ca17a180786b69acc140d282b71a49"
  },
  "kernelspec": {
   "display_name": "Python 3.9.10 64-bit",
   "language": "python",
   "name": "python3"
  },
  "language_info": {
   "codemirror_mode": {
    "name": "ipython",
    "version": 3
   },
   "file_extension": ".py",
   "mimetype": "text/x-python",
   "name": "python",
   "nbconvert_exporter": "python",
   "pygments_lexer": "ipython3",
   "version": "3.9.10"
  },
  "orig_nbformat": 4
 },
 "nbformat": 4,
 "nbformat_minor": 2
}
