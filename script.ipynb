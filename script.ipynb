{
 "cells": [
  {
   "cell_type": "code",
   "execution_count": 2,
   "metadata": {},
   "outputs": [],
   "source": [
    "from qiskit import QuantumCircuit\n",
    "from qiskit import Aer\n",
    "\n",
    "sim = Aer.get_backend('aer_simulator')"
   ]
  },
  {
   "cell_type": "code",
   "execution_count": 101,
   "metadata": {},
   "outputs": [
    {
     "data": {
      "text/plain": [
       "{'01 10': 249, '01 00': 251, '11 10': 263, '11 00': 261}"
      ]
     },
     "execution_count": 101,
     "metadata": {},
     "output_type": "execute_result"
    }
   ],
   "source": [
    "oracle1 = QuantumCircuit(2, 2)\n",
    "oracle1.cz(0, 1)        # | 00 >\n",
    "oracle1.measure(0, 1)\n",
    "\n",
    "diffuser = QuantumCircuit(2, 2)\n",
    "diffuser.h([0, 1])\n",
    "diffuser.x([0, 1])\n",
    "diffuser.cz(0, 1)\n",
    "diffuser.x([0, 1])\n",
    "diffuser.h([0, 1])\n",
    "\n",
    "\n",
    "grover = QuantumCircuit(2, 2)\n",
    "grover.h([0, 1])\n",
    "grover  = grover.compose(oracle1)\n",
    "grover = grover.compose(diffuser)\n",
    "grover.measure_all()\n",
    "sim.run(grover).result().get_counts()\n",
    "#grover.draw()"
   ]
  },
  {
   "cell_type": "code",
   "execution_count": 114,
   "metadata": {},
   "outputs": [
    {
     "data": {
      "text/plain": [
       "{'10 10': 248, '00 00': 267, '11 10': 254, '01 00': 255}"
      ]
     },
     "execution_count": 114,
     "metadata": {},
     "output_type": "execute_result"
    }
   ],
   "source": [
    "oracle2 = QuantumCircuit(2, 2)\n",
    "oracle2.x(0)\n",
    "oracle2.x(0)\n",
    "oracle2.measure(1, 1)\n",
    "\n",
    "diffuser2 = QuantumCircuit(2, 2)\n",
    "diffuser2.h([1, 1])\n",
    "diffuser2.x([0, 1])\n",
    "diffuser2.cz(0, 1)\n",
    "diffuser2.x([0, 1])\n",
    "diffuser2.h([1, 1])\n",
    "\n",
    "grover2 = QuantumCircuit(2, 2)\n",
    "grover2.h([1, 0])\n",
    "grover2 = grover2.compose(oracle2)\n",
    "grover2 = grover2.compose(diffuser2)\n",
    "grover2.measure_all()\n",
    "sim.run(grover2).result().get_counts()"
   ]
  },
  {
   "cell_type": "code",
   "execution_count": null,
   "metadata": {},
   "outputs": [],
   "source": []
  },
  {
   "cell_type": "code",
   "execution_count": 124,
   "metadata": {},
   "outputs": [
    {
     "data": {
      "text/plain": [
       "{'11 00': 269, '10 10': 250, '01 00': 245, '00 10': 260}"
      ]
     },
     "execution_count": 124,
     "metadata": {},
     "output_type": "execute_result"
    }
   ],
   "source": [
    "oracle3 = QuantumCircuit(2, 2)\n",
    "oracle3.x(0)            # |10 >\n",
    "oracle3.measure(0, 1)\n",
    "\n",
    "diffuser3 = QuantumCircuit(2, 2)\n",
    "diffuser3.h([0, 1])\n",
    "diffuser3.x([0, 1])\n",
    "diffuser3.cz(0, 1)\n",
    "diffuser3.x([0, 1])\n",
    "diffuser3.h([0, 1])\n",
    "diffuser3.draw()\n",
    "\n",
    "grover3 = QuantumCircuit(2, 2)\n",
    "grover3.h([0, 1])\n",
    "grover3 = grover3.compose(oracle3)\n",
    "grover3 = grover3.compose(diffuser3)\n",
    "grover3.measure_all()\n",
    "sim.run(grover3).result().get_counts()\n",
    "\n"
   ]
  },
  {
   "cell_type": "code",
   "execution_count": 134,
   "metadata": {},
   "outputs": [
    {
     "data": {
      "text/plain": [
       "{'10 01': 264, '01 00': 262, '11 01': 232, '00 00': 266}"
      ]
     },
     "execution_count": 134,
     "metadata": {},
     "output_type": "execute_result"
    }
   ],
   "source": [
    "oracle4 = QuantumCircuit(2, 2)\n",
    "oracle4.x(1)\n",
    "oracle4.x(0)\n",
    "oracle4.measure(1, 0)       # | 01 > \n",
    "\n",
    "diffuser4 = QuantumCircuit(2, 2)\n",
    "diffuser4.h([0, 1])\n",
    "diffuser4.x([1, 1])\n",
    "diffuser4.cz(0, 1)\n",
    "diffuser4.x([1, 1])\n",
    "diffuser4.h([0, 1]) # Symmetry Experiment \n",
    "\n",
    "grover4 = QuantumCircuit(2, 2)\n",
    "grover4.h([0, 1])\n",
    "grover4 = grover4.compose(oracle4)\n",
    "grover4 = grover4.compose(diffuser4)\n",
    "grover4.measure_all()\n",
    "sim.run(grover4).result().get_counts()\n"
   ]
  },
  {
   "cell_type": "code",
   "execution_count": null,
   "metadata": {},
   "outputs": [],
   "source": []
  },
  {
   "cell_type": "code",
   "execution_count": null,
   "metadata": {},
   "outputs": [],
   "source": []
  }
 ],
 "metadata": {
  "interpreter": {
   "hash": "aee8b7b246df8f9039afb4144a1f6fd8d2ca17a180786b69acc140d282b71a49"
  },
  "kernelspec": {
   "display_name": "Python 3.9.10 64-bit",
   "language": "python",
   "name": "python3"
  },
  "language_info": {
   "codemirror_mode": {
    "name": "ipython",
    "version": 3
   },
   "file_extension": ".py",
   "mimetype": "text/x-python",
   "name": "python",
   "nbconvert_exporter": "python",
   "pygments_lexer": "ipython3",
   "version": "3.9.10"
  },
  "orig_nbformat": 4
 },
 "nbformat": 4,
 "nbformat_minor": 2
}
